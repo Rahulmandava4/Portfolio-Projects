{
 "cells": [
  {
   "cell_type": "code",
   "execution_count": 1,
   "metadata": {
    "ExecuteTime": {
     "end_time": "2025-04-29T03:40:51.475110Z",
     "start_time": "2025-04-29T03:40:48.071298Z"
    },
    "id": "8GXtsGlNX0We"
   },
   "outputs": [
    {
     "name": "stderr",
     "output_type": "stream",
     "text": [
      "25/04/28 21:40:48 WARN Utils: Your hostname, hyperbola resolves to a loopback address: 127.0.1.1; using 192.168.0.66 instead (on interface enp6s0)\n",
      "25/04/28 21:40:48 WARN Utils: Set SPARK_LOCAL_IP if you need to bind to another address\n",
      "Setting default log level to \"WARN\".\n",
      "To adjust logging level use sc.setLogLevel(newLevel). For SparkR, use setLogLevel(newLevel).\n",
      "25/04/28 21:40:49 WARN NativeCodeLoader: Unable to load native-hadoop library for your platform... using builtin-java classes where applicable\n"
     ]
    },
    {
     "name": "stdout",
     "output_type": "stream",
     "text": [
      "+---+\n",
      "| id|\n",
      "+---+\n",
      "|  0|\n",
      "|  1|\n",
      "|  2|\n",
      "|  3|\n",
      "|  4|\n",
      "+---+\n",
      "\n"
     ]
    }
   ],
   "source": [
    "import numpy as np\n",
    "from pyspark.sql import SparkSession\n",
    "from pyspark.sql.functions import concat_ws, collect_set, year, weekofyear, col\n",
    "import itertools\n",
    "import pickle\n",
    "from collections import Counter\n",
    "import pickle\n",
    "import os\n",
    "from pyspark.sql.types import ArrayType, StringType\n",
    "\n",
    "from pyspark.sql import Row\n",
    "\n",
    "from functools import reduce\n",
    "from pyspark.ml.fpm import FPGrowth\n",
    "from pyspark.sql.functions import explode, size, udf\n",
    "\n",
    "try:\n",
    "    spark.stop()\n",
    "except:\n",
    "    pass\n",
    "\n",
    "# Start session\n",
    "spark = (\n",
    "    SparkSession.builder\n",
    "      .appName(\"WiClean+_FPgrowth\")\n",
    "      .master(\"spark://spark:7077\")\n",
    "\n",
    "      .config(\"spark.driver.memory\",       \"4g\")\n",
    "      .config(\"spark.executor.memory\",     \"42g\")\n",
    "\n",
    "      .config(\"spark.driver.maxResultSize\",\"0\")\n",
    "\n",
    "      .config(\"spark.sql.shuffle.partitions\",\"300\")\n",
    "      .config(\"spark.default.parallelism\",  \"300\")\n",
    "\n",
    "      .config(\"spark.serializer\",           \"org.apache.spark.serializer.KryoSerializer\")\n",
    "      .config(\"spark.kryoserializer.buffer.max\",\"1g\")\n",
    "      .getOrCreate()\n",
    ")\n",
    "\n",
    "spark.range(5).show()\n",
    "\n",
    "\n"
   ]
  },
  {
   "cell_type": "code",
   "execution_count": 2,
   "metadata": {
    "ExecuteTime": {
     "end_time": "2025-04-29T03:41:02.983960Z",
     "start_time": "2025-04-29T03:40:52.496690Z"
    },
    "id": "-o2Q9Wc3mIj7"
   },
   "outputs": [
    {
     "name": "stderr",
     "output_type": "stream",
     "text": [
      "25/04/28 21:40:57 WARN MemoryManager: Total allocation exceeds 95.00% (4,080,218,880 bytes) of heap memory\n",
      "Scaling row group sizes to 98.06% for 31 writers\n",
      "25/04/28 21:40:57 WARN MemoryManager: Total allocation exceeds 95.00% (4,080,218,880 bytes) of heap memory\n",
      "Scaling row group sizes to 95.00% for 32 writers\n",
      "25/04/28 21:40:57 WARN MemoryManager: Total allocation exceeds 95.00% (4,080,218,880 bytes) of heap memory\n",
      "Scaling row group sizes to 98.06% for 31 writers\n",
      "                                                                                \r"
     ]
    },
    {
     "name": "stdout",
     "output_type": "stream",
     "text": [
      "Transactions built: 237,263 article-week transactions\n"
     ]
    },
    {
     "name": "stderr",
     "output_type": "stream",
     "text": [
      "25/04/28 21:41:01 WARN GarbageCollectionMetrics: To enable non-built-in garbage collector(s) List(G1 Concurrent GC), users should configure it(them) to spark.eventLog.gcMetrics.youngGenerationGarbageCollectors or spark.eventLog.gcMetrics.oldGenerationGarbageCollectors\n",
      "[Stage 15:=============================================>       (252 + 34) / 296]\r"
     ]
    },
    {
     "name": "stdout",
     "output_type": "stream",
     "text": [
      "+-----------+-------+------------------------------------------------------------------------------------------------------------------------------------------------------------------------------------------------------------------------------------------------------------------------------------------------------+\n",
      "|src_article|week   |items                                                                                                                                                                                                                                                                                                 |\n",
      "+-----------+-------+------------------------------------------------------------------------------------------------------------------------------------------------------------------------------------------------------------------------------------------------------------------------------------------------------+\n",
      "|34         |2024-52|[+→34→47578, -→34→534780]                                                                                                                                                                                                                                                                             |\n",
      "|62         |2023-13|[+→62→8297350]                                                                                                                                                                                                                                                                                        |\n",
      "|1017       |2023-29|[+→1017→35590364, -→1017→1010161, +→1017→38270162, +→1017→11631089, -→1017→2860240, +→1017→5475056, -→1017→759688, +→1017→912916, +→1017→34980707, +→1017→26704018, -→1017→17503705, -→1017→35590364, +→1017→20415585, -→1017→38270067, +→1017→728764, -→1017→912916, +→1017→1717466, -→1017→38270013]|\n",
      "|1205       |2024-22|[-→1205→237335]                                                                                                                                                                                                                                                                                       |\n",
      "|1597       |2023-19|[+→1597→27027058, +→1597→27027017, -→1597→2763983, +→1597→14405604, -→1597→36158, -→1597→298777]                                                                                                                                                                                                      |\n",
      "+-----------+-------+------------------------------------------------------------------------------------------------------------------------------------------------------------------------------------------------------------------------------------------------------------------------------------------------------+\n",
      "only showing top 5 rows\n",
      "\n"
     ]
    },
    {
     "name": "stderr",
     "output_type": "stream",
     "text": [
      "                                                                                \r"
     ]
    }
   ],
   "source": [
    "#Load the full events\n",
    "events = spark.read.parquet(\"data/events.parquet\")\n",
    "\n",
    "# load the top-10k meaningful typed pages\n",
    "top10k = spark.read.parquet(\"data/top10k_typed_pages.parquet\")\n",
    "\n",
    "# filter events to only those involving top10k src_articles\n",
    "events_top10k = events.join(top10k, events.src_article == top10k.article_id)\n",
    "\n",
    "# add week column (year-week) and item description\n",
    "# with fancy arrows :)\n",
    "tx_small = (events_top10k.withColumn(\"week\", concat_ws(\"-\", year(\"timestamp\"), weekofyear(\"timestamp\")))\n",
    "                          .withColumn(\"item\", concat_ws(\"→\", col(\"action\"), col(\"src_article\"), col(\"dst_article\")))\n",
    "                          .groupBy(\"src_article\", \"week\")\n",
    "                          .agg(collect_set(\"item\").alias(\"items\")))\n",
    "\n",
    "# Save transactions\n",
    "tx_small.write.mode(\"overwrite\").parquet(\"data/transactions_small.parquet\")\n",
    "\n",
    "print(f\"Transactions built: {tx_small.count():,} article-week transactions\")\n",
    "tx_small.show(5, truncate=False)\n",
    "\n"
   ]
  },
  {
   "cell_type": "code",
   "execution_count": 4,
   "metadata": {
    "ExecuteTime": {
     "end_time": "2025-04-29T03:39:56.298096Z",
     "start_time": "2025-04-29T03:37:48.582559Z"
    },
    "id": "VBi1ucp3b7IB"
   },
   "outputs": [
    {
     "name": "stdout",
     "output_type": "stream",
     "text": [
      " Total transactions: 237,263\n",
      " Will split into 12 batches (each with ~20000 transactions)\n",
      "\n",
      "=== Top-20 frequent link pairs ===\n",
      "('+→29990→770424', '-→29990→770424'): 6 transactions\n",
      "('-→179793→115059', '-→179793→2438627'): 6 transactions\n",
      "('-→867603→158010', '-→867603→2780152'): 6 transactions\n",
      "('-→867603→158010', '-→867603→650907'): 6 transactions\n",
      "('-→867603→2780152', '-→867603→650907'): 6 transactions\n",
      "('+→4028906→33091', '+→4028906→6328'): 6 transactions\n",
      "('+→4028906→33091', '-→4028906→33091'): 6 transactions\n",
      "('+→4028906→33091', '-→4028906→6328'): 6 transactions\n",
      "('+→4028906→6328', '-→4028906→33091'): 6 transactions\n",
      "('+→4028906→6328', '-→4028906→6328'): 6 transactions\n",
      "('-→4028906→33091', '-→4028906→6328'): 6 transactions\n",
      "('+→5484583→10685279', '+→5484583→15708430'): 6 transactions\n",
      "('+→5484583→10685279', '+→5484583→19225238'): 6 transactions\n",
      "('+→5484583→10685279', '+→5484583→232517'): 6 transactions\n",
      "('+→5484583→10685279', '+→5484583→27258946'): 6 transactions\n",
      "('+→5484583→10685279', '+→5484583→27258947'): 6 transactions\n",
      "('+→5484583→10685279', '+→5484583→27258950'): 6 transactions\n",
      "('+→5484583→10685279', '+→5484583→43729'): 6 transactions\n",
      "('+→5484583→10685279', '+→5484583→4402122'): 6 transactions\n",
      "('+→5484583→10685279', '+→5484583→5277382'): 6 transactions\n"
     ]
    }
   ],
   "source": [
    "# Note: this cell will take super long to execute\n",
    "# and takes a ton of memory. I don't recommend\n",
    "# waiting for it during grading.\n",
    "\n",
    "# reload total number of transactions\n",
    "tx_small = spark.read.parquet(\"data/transactions_small.parquet\")\n",
    "total_tx = tx_small.count()\n",
    "\n",
    "print(f\" Total transactions: {total_tx:,}\")\n",
    "\n",
    "# set batch size\n",
    "batch_size = 20000\n",
    "num_batches = (total_tx // batch_size) + 1\n",
    "\n",
    "print(f\" Will split into {num_batches} batches (each with ~{batch_size} transactions)\")\n",
    "\n",
    "for batch_idx in range(num_batches):\n",
    "    # load a slice\n",
    "    batch = (tx_small\n",
    "             .limit((batch_idx+1) * batch_size)\n",
    "             .subtract(tx_small.limit(batch_idx * batch_size))\n",
    "             .select(\"items\")\n",
    "             .rdd.map(lambda r: r.items)\n",
    "             .collect())\n",
    "\n",
    "    # count pairs in batch\n",
    "    batch_counter = Counter()\n",
    "\n",
    "    for items in batch:\n",
    "        if items is None or len(items) < 2:\n",
    "            continue\n",
    "        sorted_items = sorted(items)\n",
    "        pairs = itertools.combinations(sorted_items, 2)\n",
    "        batch_counter.update(pairs)\n",
    "\n",
    "    # save batch counter to file\n",
    "    with open(f\"data/pair_counts_batch_{batch_idx}.pkl\", \"wb\") as f:\n",
    "        pickle.dump(batch_counter, f)\n",
    "\n",
    "    print(f\" Processed and saved batch {batch_idx+1}/{num_batches}\")\n",
    "\n",
    "final_counter = Counter()\n",
    "\n",
    "for batch_idx in range(2): # had to reduce the number of batches merged for memory reasons\n",
    "    with open(f\"data/pair_counts_batch_{batch_idx}.pkl\", \"rb\") as f:\n",
    "        batch_counter = pickle.load(f)\n",
    "    final_counter.update(batch_counter)\n",
    "\n",
    "# get top-20 pairs\n",
    "top20_pairs = final_counter.most_common(20)\n",
    "\n",
    "print(\"\\n=== Top-20 frequent link pairs ===\")\n",
    "for pair, count in top20_pairs:\n",
    "    print(f\"{pair}: {count} transactions\")\n",
    "\n"
   ]
  },
  {
   "cell_type": "code",
   "execution_count": 3,
   "metadata": {
    "ExecuteTime": {
     "end_time": "2025-04-29T03:41:10.187891Z",
     "start_time": "2025-04-29T03:41:10.186359Z"
    }
   },
   "outputs": [],
   "source": [
    "final_counter = None"
   ]
  },
  {
   "cell_type": "code",
   "execution_count": 4,
   "metadata": {
    "ExecuteTime": {
     "end_time": "2025-04-29T03:41:23.055919Z",
     "start_time": "2025-04-29T03:41:21.473682Z"
    },
    "colab": {
     "base_uri": "https://localhost:8080/",
     "height": 642
    },
    "id": "h2o9GiqMQsEr",
    "outputId": "def8d294-ca70-4190-da99-767b478e1179"
   },
   "outputs": [
    {
     "name": "stdout",
     "output_type": "stream",
     "text": [
      "+-------+------------------+\n",
      "|summary|         num_items|\n",
      "+-------+------------------+\n",
      "|  count|            237263|\n",
      "|   mean|26.654303452287124|\n",
      "| stddev|109.80396279421348|\n",
      "|    min|                 1|\n",
      "|    max|              6536|\n",
      "+-------+------------------+\n",
      "\n"
     ]
    },
    {
     "name": "stderr",
     "output_type": "stream",
     "text": [
      "                                                                                \r"
     ]
    },
    {
     "data": {
      "image/png": "[encoded data removed]",
      "text/plain": [
       "<Figure size 640x480 with 1 Axes>"
      ]
     },
     "metadata": {},
     "output_type": "display_data"
    }
   ],
   "source": [
    "\n",
    "\n",
    "tx = spark.read.parquet(\"data/transactions_small.parquet\")\n",
    "\n",
    "\n",
    "tx_sizes = tx.withColumn(\"num_items\", size(\"items\"))\n",
    "\n",
    "# basic stats\n",
    "tx_sizes.select(\"num_items\").describe().show()\n",
    "\n",
    "# histogram\n",
    "import matplotlib.pyplot as plt\n",
    "\n",
    "sizes = tx_sizes.select(\"num_items\").rdd.flatMap(lambda x: x).collect()\n",
    "plt.hist(sizes, bins=30, edgecolor=\"black\")\n",
    "plt.title(\"Transaction Size Distribution\")\n",
    "plt.xlabel(\"# of Items (link edits)\")\n",
    "plt.ylabel(\"# of Transactions\")\n",
    "plt.show()\n"
   ]
  },
  {
   "cell_type": "code",
   "execution_count": 5,
   "metadata": {
    "ExecuteTime": {
     "end_time": "2025-04-29T03:41:40.728387Z",
     "start_time": "2025-04-29T03:41:38.942502Z"
    },
    "colab": {
     "base_uri": "https://localhost:8080/"
    },
    "id": "3P4QAx6TQ1wI",
    "outputId": "8bbbccbe-ad8b-4345-f79e-0b678f1ac68e"
   },
   "outputs": [
    {
     "name": "stdout",
     "output_type": "stream",
     "text": [
      "+------------------+-----+\n",
      "|              item|count|\n",
      "+------------------+-----+\n",
      "|   -→215200→604879|   39|\n",
      "|   +→215200→604879|   37|\n",
      "|  -→6868638→154028|   33|\n",
      "|   +→627852→359378|   32|\n",
      "|  +→6868638→154028|   31|\n",
      "| -→2935437→2032276|   29|\n",
      "|   -→627852→359378|   29|\n",
      "| +→2935437→2032276|   28|\n",
      "|  +→627852→1445700|   27|\n",
      "|+→11198015→7264859|   26|\n",
      "+------------------+-----+\n",
      "only showing top 10 rows\n",
      "\n",
      "Total unique items: 4996879\n"
     ]
    }
   ],
   "source": [
    "\n",
    "\n",
    "item_count = (\n",
    "    tx.select(explode(\"items\").alias(\"item\"))\n",
    "      .groupBy(\"item\").count()\n",
    "      .orderBy(\"count\", ascending=False)\n",
    ")\n",
    "\n",
    "item_count.show(10)\n",
    "\n",
    "print(f\"Total unique items: {item_count.count()}\")\n"
   ]
  },
  {
   "cell_type": "code",
   "execution_count": 7,
   "metadata": {
    "ExecuteTime": {
     "end_time": "2025-04-29T03:49:35.890343Z",
     "start_time": "2025-04-29T03:42:36.885029Z"
    },
    "colab": {
     "base_uri": "https://localhost:8080/"
    },
    "id": "24QiZxeNlefo",
    "outputId": "e3a7b5e5-b5d2-4af5-a79e-610672cf9b3e"
   },
   "outputs": [
    {
     "name": "stdout",
     "output_type": "stream",
     "text": [
      "Found 12 batch files\n",
      " Processed batch pair_counts_batch_6.pkl with 12,421 frequent pairs\n",
      " Processed batch pair_counts_batch_11.pkl with 883,038 frequent pairs\n",
      " Processed batch pair_counts_batch_8.pkl with 51,036 frequent pairs\n",
      " Processed batch pair_counts_batch_0.pkl with 33,168 frequent pairs\n",
      " Processed batch pair_counts_batch_2.pkl with 66,790 frequent pairs\n",
      " Processed batch pair_counts_batch_9.pkl with 40,293 frequent pairs\n",
      " Processed batch pair_counts_batch_7.pkl with 39,262 frequent pairs\n",
      " Processed batch pair_counts_batch_5.pkl with 25,350 frequent pairs\n",
      " Processed batch pair_counts_batch_4.pkl with 329,239 frequent pairs\n",
      " Processed batch pair_counts_batch_3.pkl with 94,846 frequent pairs\n",
      " Processed batch pair_counts_batch_10.pkl with 93,281 frequent pairs\n",
      " Processed batch pair_counts_batch_1.pkl with 133,997 frequent pairs\n",
      "\n",
      "=== Top-20 frequent link pairs ===\n"
     ]
    },
    {
     "name": "stderr",
     "output_type": "stream",
     "text": [
      "[Stage 32:===================================================>(3599 + 1) / 3600]\r"
     ]
    },
    {
     "name": "stdout",
     "output_type": "stream",
     "text": [
      "+----------------------------------------+-----------+\n",
      "|pair                                    |total_count|\n",
      "+----------------------------------------+-----------+\n",
      "|{+→215200→604879, -→215200→604879}      |31         |\n",
      "|{+→11198015→61226, +→11198015→88137}    |23         |\n",
      "|{+→11198015→196328, +→11198015→88137}   |23         |\n",
      "|{+→11198015→61226, +→11198015→9829326}  |23         |\n",
      "|{+→11198015→7264859, +→11198015→9829326}|23         |\n",
      "|{+→11198015→103140, +→11198015→61226}   |23         |\n",
      "|{+→11198015→103140, +→11198015→9829326} |23         |\n",
      "|{+→11198015→7264859, +→11198015→88137}  |23         |\n",
      "|{+→11198015→61226, +→11198015→7264859}  |23         |\n",
      "|{+→11198015→196328, +→11198015→61226}   |23         |\n",
      "|{+→11198015→103140, +→11198015→7264859} |23         |\n",
      "|{+→11198015→196328, +→11198015→9829326} |23         |\n",
      "|{+→11198015→88137, +→11198015→9829326}  |23         |\n",
      "|{+→11198015→103140, +→11198015→88137}   |23         |\n",
      "|{+→11198015→196328, +→11198015→7264859} |23         |\n",
      "|{+→11198015→103140, +→11198015→196328}  |23         |\n",
      "|{-→11198015→16474542, -→11198015→575257}|22         |\n",
      "|{+→11198015→61226, -→11198015→797594}   |22         |\n",
      "|{+→11198015→103140, -→11198015→797594}  |22         |\n",
      "|{-→11198015→575257, -→11198015→643163}  |22         |\n",
      "+----------------------------------------+-----------+\n",
      "only showing top 20 rows\n",
      "\n"
     ]
    },
    {
     "name": "stderr",
     "output_type": "stream",
     "text": [
      "                                                                                \r"
     ]
    }
   ],
   "source": [
    "\n",
    "dfs = []\n",
    "pkl_dir = \"data/\"\n",
    "batch_files = [f for f in os.listdir(pkl_dir) if f.startswith(\"pair_counts_batch_\") and f.endswith(\".pkl\")]\n",
    "\n",
    "print(f\"Found {len(batch_files)} batch files\")\n",
    "\n",
    "for f in batch_files:\n",
    "    with open(os.path.join(pkl_dir, f), \"rb\") as handle:\n",
    "        batch_counter = pickle.load(handle)\n",
    "\n",
    "    # filter : Keep only pairs occurring >= 3 times in batch\n",
    "    batch_counter = Counter({pair: cnt for pair, cnt in batch_counter.items() if cnt >= 3})\n",
    "\n",
    "    rows = [Row(pair=tuple(sorted(k)), count=v) for k, v in batch_counter.items()]\n",
    "\n",
    "    df = spark.createDataFrame(rows)\n",
    "    dfs.append(df)\n",
    "\n",
    "    print(f\" Processed batch {f} with {len(rows):,} frequent pairs\")\n",
    "\n",
    "# merge\n",
    "merged_df = reduce(lambda df1, df2: df1.union(df2), dfs)\n",
    "\n",
    "# group and sum\n",
    "pairs_final = merged_df.groupBy(\"pair\").sum(\"count\").withColumnRenamed(\"sum(count)\", \"total_count\")\n",
    "\n",
    "# top-20\n",
    "top20_pairs = pairs_final.orderBy(col(\"total_count\").desc()).limit(100)\n",
    "\n",
    "print(\"\\n=== Top-20 frequent link pairs ===\")\n",
    "top20_pairs.show(truncate=False)\n",
    "\n"
   ]
  },
  {
   "cell_type": "code",
   "execution_count": 9,
   "metadata": {
    "ExecuteTime": {
     "end_time": "2025-04-29T03:50:17.045172Z",
     "start_time": "2025-04-29T03:50:05.693957Z"
    },
    "id": "PUJ-NXcBlm8w"
   },
   "outputs": [
    {
     "name": "stderr",
     "output_type": "stream",
     "text": [
      "                                                                                \r"
     ]
    }
   ],
   "source": [
    "top20_pairs.write.mode(\"overwrite\").parquet(\"data/top100_patterns.parquet\")\n"
   ]
  },
  {
   "cell_type": "code",
   "execution_count": 10,
   "metadata": {
    "ExecuteTime": {
     "end_time": "2025-04-29T04:16:08.052585Z",
     "start_time": "2025-04-29T03:50:45.271837Z"
    },
    "colab": {
     "base_uri": "https://localhost:8080/"
    },
    "id": "blx5VQxOloAz",
    "outputId": "d99b6c14-63aa-4cd0-b51d-7e4151ab23ca"
   },
   "outputs": [
    {
     "name": "stderr",
     "output_type": "stream",
     "text": [
      "25/04/28 21:50:45 WARN SparkSession: Using an existing Spark session; only runtime SQL configurations will take effect.\n",
      "                                                                                \r"
     ]
    },
    {
     "name": "stdout",
     "output_type": "stream",
     "text": [
      "Saved 1000 patterns of size 2 at data/patterns_size2_csv_reduced\n"
     ]
    },
    {
     "name": "stderr",
     "output_type": "stream",
     "text": [
      "                                                                                \r"
     ]
    },
    {
     "name": "stdout",
     "output_type": "stream",
     "text": [
      "Saved 500 patterns of size 3 at data/patterns_size3_csv_reduced\n",
      "WiClean+ FPGrowth finished successfully with reduced size.\n"
     ]
    }
   ],
   "source": [
    "from pyspark.sql import SparkSession\n",
    "from pyspark.ml.fpm import FPGrowth\n",
    "from pyspark.sql.functions import explode, size, udf, col\n",
    "\n",
    "\n",
    "# new Spark session (different memory config)\n",
    "spark = (\n",
    "    SparkSession.builder\n",
    "      .appName(\"WiClean+_Reduced_FPGrowth\")\n",
    "      .master(\"local[*]\")\n",
    "      .config(\"spark.driver.memory\",       \"35g\")\n",
    "      .config(\"spark.driver.maxResultSize\",\"8g\")\n",
    "      .config(\"spark.sql.shuffle.partitions\",\"100\")\n",
    "      .getOrCreate()\n",
    ")\n",
    "\n",
    "# load and sample\n",
    "tx = (\n",
    "    spark.read\n",
    "         .parquet(\"data/transactions_small.parquet\")\n",
    "         .select(\"items\")\n",
    "         .filter(size(\"items\") >= 3)\n",
    "         .filter(size(\"items\") <= 30)\n",
    "         .sample(False, 0.7, seed=42)\n",
    ")\n",
    "\n",
    "# prune items seen >=20 times\n",
    "item_counts = (\n",
    "    tx.select(explode(\"items\").alias(\"item\"))\n",
    "      .groupBy(\"item\").count()\n",
    ")\n",
    "min_occ = 5\n",
    "freq_items = {r.item for r in item_counts.filter(col(\"count\") >= min_occ).collect()}\n",
    "\n",
    "prune_udf = udf(lambda arr: [x for x in arr if x in freq_items], ArrayType(StringType()))\n",
    "tx_pruned = (\n",
    "    tx.withColumn(\"items\", prune_udf(\"items\"))\n",
    "      .filter(size(\"items\") >= 2)\n",
    ")\n",
    "\n",
    "# FPGrowth with min_support\n",
    "min_support = 0.0001\n",
    "model = FPGrowth(\n",
    "    itemsCol=\"items\",\n",
    "    minSupport=min_support,\n",
    "    minConfidence=0.0\n",
    ").fit(tx_pruned)\n",
    "\n",
    "# save top 2-item patterns\n",
    "def save_patterns(size_n, topN):\n",
    "    df = (\n",
    "        model.freqItemsets\n",
    "        .filter(size(\"items\") == size_n)\n",
    "        .orderBy(\"freq\", ascending=False)\n",
    "        .limit(topN)\n",
    "        .selectExpr(\n",
    "            \"concat_ws('|', items) AS pattern\",\n",
    "            \"cast(freq as string) AS freq\"\n",
    "        )\n",
    "    )\n",
    "    out_path = f\"data/patterns_size{size_n}_csv_reduced\"\n",
    "    df.rdd.map(lambda row: f\"{row.pattern},{row.freq}\") \\\n",
    "      .saveAsTextFile(out_path)\n",
    "    print(f\"Saved {topN} patterns of size {size_n} at {out_path}\")\n",
    "\n",
    "save_patterns(size_n=2, topN=1000)\n",
    "save_patterns(size_n=3, topN=500)\n",
    "\n",
    "# done\n",
    "spark.stop()\n",
    "print(\"WiClean+ FPGrowth finished successfully with reduced size.\")\n",
    "\n",
    "\n",
    "\n",
    "\n"
   ]
  },
  {
   "cell_type": "code",
   "execution_count": null,
   "metadata": {
    "id": "3pMasYe-reRM"
   },
   "outputs": [],
   "source": []
  }
 ],
 "metadata": {
  "colab": {
   "machine_shape": "hm",
   "provenance": []
  },
  "kernelspec": {
   "display_name": "Python 3 (ipykernel)",
   "language": "python",
   "name": "python3"
  },
  "language_info": {
   "codemirror_mode": {
    "name": "ipython",
    "version": 3
   },
   "file_extension": ".py",
   "mimetype": "text/x-python",
   "name": "python",
   "nbconvert_exporter": "python",
   "pygments_lexer": "ipython3",
   "version": "3.11.6"
  }
 },
 "nbformat": 4,
 "nbformat_minor": 4
}
